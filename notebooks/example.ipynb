{
 "cells": [
  {
   "cell_type": "code",
   "execution_count": 232,
   "metadata": {},
   "outputs": [
    {
     "name": "stdout",
     "output_type": "stream",
     "text": [
      "The autoreload extension is already loaded. To reload it, use:\n",
      "  %reload_ext autoreload\n"
     ]
    }
   ],
   "source": [
    "# Useful starting lines \n",
    "%matplotlib inline\n",
    "import numpy as np\n",
    "import matplotlib.pyplot as plt\n",
    "from matplotlib.lines import Line2D\n",
    "%load_ext autoreload\n",
    "%autoreload 2"
   ]
  },
  {
   "cell_type": "code",
   "execution_count": 233,
   "metadata": {},
   "outputs": [],
   "source": [
    "import os \n",
    "import sys\n",
    "import time\n",
    "import copy\n",
    "from copy import deepcopy\n",
    "import pickle\n",
    "import math\n",
    "import functools \n",
    "from IPython.display import display, HTML\n",
    "import operator\n",
    "from operator import itemgetter\n",
    "import pandas as pd\n",
    "import seaborn as sns\n",
    "from matplotlib.lines import Line2D\n",
    "from glob import glob\n",
    "\n",
    "sns.set(style=\"darkgrid\")\n",
    "sns.set_context(\"paper\")\n",
    "pd.set_option('future.no_silent_downcasting',True)"
   ]
  },
  {
   "cell_type": "code",
   "execution_count": 234,
   "metadata": {},
   "outputs": [],
   "source": [
    "root_path = '/root/autodl-tmp/ttab'\n",
    "sys.path.append(root_path)"
   ]
  },
  {
   "cell_type": "code",
   "execution_count": 235,
   "metadata": {},
   "outputs": [],
   "source": [
    "from monitor.tools.show_results import extract_list_of_records, reorder_records, get_pickle_info, summarize_info\n",
    "from monitor.tools.plot import plot_curve_wrt_time\n",
    "import monitor.tools.plot_utils as plot_utils\n",
    "\n",
    "from monitor.tools.utils import dict_parser\n",
    "from monitor.tools.file_io import load_pickle"
   ]
  },
  {
   "cell_type": "code",
   "execution_count": 236,
   "metadata": {},
   "outputs": [],
   "source": [
    "def get_stats(experiment:str,conditions={},root_data_path=os.path.join(root_path,  'logs', 'resnet26')):\n",
    "    # Have a glimpse of experimental results.\n",
    "    raw_records = get_pickle_info(root_data_path, [experiment])\n",
    "    attributes = ['model_adaptation_method', 'n_train_steps', 'episodic','lr', 'model_selection_method', 'seed', 'data_names', 'status']\n",
    "    records = extract_list_of_records(list_of_records=raw_records, conditions=conditions)\n",
    "    aggregated_results, averaged_records_overall = summarize_info(records, attributes, reorder_on='model_adaptation_method', groupby_on='test-overall-accuracy', larger_is_better=True)\n",
    "    return aggregated_results,averaged_records_overall "
   ]
  },
  {
   "cell_type": "code",
   "execution_count": 237,
   "metadata": {},
   "outputs": [],
   "source": [
    "experiments =glob(os.path.join(os.pardir,'logs',\"*\",\"*\"))\n",
    "conditions = {\n",
    "    # \"model_adaptation_method\": [\"tent\"],\n",
    "    \"seed\": [2022],\n",
    "    # \"batch_size\": [64],\n",
    "    # \"episodic\": [False],\n",
    "    # \"n_train_steps\": [50],\n",
    "    # \"lr\": [0.005],\n",
    "    # \"data_names\": [\"cifar10_c_deterministic-gaussian_noise-5\"],\n",
    "}"
   ]
  },
  {
   "cell_type": "code",
   "execution_count": 238,
   "metadata": {},
   "outputs": [
    {
     "data": {
      "text/plain": [
       "['../logs/resnet26/tent_cifar10c_online_oracle_model_selection',\n",
       " '../logs/resnet26/tent_cifar100c_online_oracle_model_selection',\n",
       " '../logs/resnet26/tent_cifar10_1_online_oracle_model_selection',\n",
       " '../logs/resnet26/tent_cifar10c_episodic_oracle_model_selection',\n",
       " '../logs/resnet26/tent_cifar100c_episodic_oracle_model_selection',\n",
       " '../logs/resnet26/tent_cifar10_1_episodic_oracle_model_selection',\n",
       " '../logs/resnet26/sar_cifar10c_online_oracle_model_selection',\n",
       " '../logs/resnet26/sar_cifar100c_online_oracle_model_selection',\n",
       " '../logs/resnet26/sar_cifar10_1_online_oracle_model_selection',\n",
       " '../logs/resnet26/sar_cifar10c_episodic_oracle_model_selection',\n",
       " '../logs/resnet26/sar_cifar100c_episodic_oracle_model_selection',\n",
       " '../logs/resnet26/sar_cifar10_1_episodic_oracle_model_selection',\n",
       " '../logs/resnet50/tent_officehome_online_oracle_model_selection',\n",
       " '../logs/resnet50/tent_pacs_online_oracle_model_selection',\n",
       " '../logs/resnet50/tent_officehome_episodic_oracle_model_selection',\n",
       " '../logs/resnet50/tent_pacs_episodic_oracle_model_selection',\n",
       " '../logs/resnet50/sar_officehome_online_oracle_model_selection',\n",
       " '../logs/resnet50/sar_pacs_online_oracle_model_selection',\n",
       " '../logs/resnet50/sar_officehome_episodic_oracle_model_selection',\n",
       " '../logs/resnet50/sar_pacs_episodic_oracle_model_selection']"
      ]
     },
     "execution_count": 238,
     "metadata": {},
     "output_type": "execute_result"
    }
   ],
   "source": [
    "experiments"
   ]
  },
  {
   "cell_type": "code",
   "execution_count": 239,
   "metadata": {},
   "outputs": [],
   "source": [
    "def get_result(seed):\n",
    "    result = pd.DataFrame(data=0,columns=['CIFAR10-C','CIFAR100-C','CIFAR10.1','OfficeHome','PACS'],index=pd.MultiIndex.from_product([\n",
    "        ['TENT','SAR'],\n",
    "        ['episodic','online']\n",
    "    ],names=['method','protocol']))\n",
    "    for experiment in experiments:\n",
    "        aggregated_results,averaged_records_overall = get_stats(os.path.basename(experiment),{\"seed\":[seed]},os.path.dirname(experiment))\n",
    "        adaptation_method = 'TENT' if 'tent' in experiment else 'SAR'\n",
    "        protocol = 'episodic' if 'episodic' in experiment else 'online'\n",
    "        if 'cifar10c' in experiment:\n",
    "            dataset = 'CIFAR10-C'\n",
    "        elif 'cifar100c' in experiment:\n",
    "            dataset = 'CIFAR100-C'\n",
    "        elif 'cifar10_1' in experiment:\n",
    "            dataset = 'CIFAR10.1'\n",
    "        elif 'officehome' in experiment:\n",
    "            dataset = 'OfficeHome'\n",
    "        elif 'pacs' in experiment:\n",
    "            dataset = 'PACS'\n",
    "        else:\n",
    "            raise NotImplementedError('invalid experiment!')\n",
    "        result.loc[(adaptation_method,protocol),dataset] = aggregated_results.loc[:,'test-overall-accuracy'].agg('mean')\n",
    "    return 100-result\n",
    "    \n",
    "    "
   ]
  },
  {
   "cell_type": "code",
   "execution_count": 242,
   "metadata": {},
   "outputs": [
    {
     "name": "stdout",
     "output_type": "stream",
     "text": [
      "we have 45/135 records.\n",
      "we have 45/135 records.\n",
      "we have 3/9 records.\n",
      "we have 45/135 records.\n"
     ]
    },
    {
     "name": "stderr",
     "output_type": "stream",
     "text": [
      "/tmp/ipykernel_369849/1769050826.py:22: FutureWarning: Setting an item of incompatible dtype is deprecated and will raise an error in a future version of pandas. Value '76.40066666666667' has dtype incompatible with int64, please explicitly cast to a compatible dtype first.\n",
      "  result.loc[(adaptation_method,protocol),dataset] = aggregated_results.loc[:,'test-overall-accuracy'].agg('mean')\n",
      "/tmp/ipykernel_369849/1769050826.py:22: FutureWarning: Setting an item of incompatible dtype is deprecated and will raise an error in a future version of pandas. Value '48.34955555555555' has dtype incompatible with int64, please explicitly cast to a compatible dtype first.\n",
      "  result.loc[(adaptation_method,protocol),dataset] = aggregated_results.loc[:,'test-overall-accuracy'].agg('mean')\n",
      "/tmp/ipykernel_369849/1769050826.py:22: FutureWarning: Setting an item of incompatible dtype is deprecated and will raise an error in a future version of pandas. Value '81.62625766472907' has dtype incompatible with int64, please explicitly cast to a compatible dtype first.\n",
      "  result.loc[(adaptation_method,protocol),dataset] = aggregated_results.loc[:,'test-overall-accuracy'].agg('mean')\n"
     ]
    },
    {
     "name": "stdout",
     "output_type": "stream",
     "text": [
      "we have 45/135 records.\n",
      "we have 3/9 records.\n",
      "we have 45/135 records.\n",
      "we have 45/135 records.\n",
      "we have 3/9 records.\n",
      "we have 45/135 records.\n",
      "we have 45/135 records.\n",
      "we have 3/9 records.\n",
      "we have 36/108 records.\n",
      "we have 36/108 records.\n",
      "we have 36/108 records.\n",
      "we have 36/108 records.\n"
     ]
    },
    {
     "name": "stderr",
     "output_type": "stream",
     "text": [
      "/tmp/ipykernel_369849/1769050826.py:22: FutureWarning: Setting an item of incompatible dtype is deprecated and will raise an error in a future version of pandas. Value '62.360000516406366' has dtype incompatible with int64, please explicitly cast to a compatible dtype first.\n",
      "  result.loc[(adaptation_method,protocol),dataset] = aggregated_results.loc[:,'test-overall-accuracy'].agg('mean')\n",
      "/tmp/ipykernel_369849/1769050826.py:22: FutureWarning: Setting an item of incompatible dtype is deprecated and will raise an error in a future version of pandas. Value '77.15691967408992' has dtype incompatible with int64, please explicitly cast to a compatible dtype first.\n",
      "  result.loc[(adaptation_method,protocol),dataset] = aggregated_results.loc[:,'test-overall-accuracy'].agg('mean')\n"
     ]
    },
    {
     "name": "stdout",
     "output_type": "stream",
     "text": [
      "we have 36/108 records.\n",
      "we have 36/108 records.\n",
      "we have 36/108 records.\n",
      "we have 36/108 records.\n",
      "we have 45/135 records.\n"
     ]
    },
    {
     "name": "stderr",
     "output_type": "stream",
     "text": [
      "/tmp/ipykernel_369849/1769050826.py:22: FutureWarning: Setting an item of incompatible dtype is deprecated and will raise an error in a future version of pandas. Value '76.23133333333334' has dtype incompatible with int64, please explicitly cast to a compatible dtype first.\n",
      "  result.loc[(adaptation_method,protocol),dataset] = aggregated_results.loc[:,'test-overall-accuracy'].agg('mean')\n",
      "/tmp/ipykernel_369849/1769050826.py:22: FutureWarning: Setting an item of incompatible dtype is deprecated and will raise an error in a future version of pandas. Value '48.474' has dtype incompatible with int64, please explicitly cast to a compatible dtype first.\n",
      "  result.loc[(adaptation_method,protocol),dataset] = aggregated_results.loc[:,'test-overall-accuracy'].agg('mean')\n",
      "/tmp/ipykernel_369849/1769050826.py:22: FutureWarning: Setting an item of incompatible dtype is deprecated and will raise an error in a future version of pandas. Value '81.11495964381241' has dtype incompatible with int64, please explicitly cast to a compatible dtype first.\n",
      "  result.loc[(adaptation_method,protocol),dataset] = aggregated_results.loc[:,'test-overall-accuracy'].agg('mean')\n"
     ]
    },
    {
     "name": "stdout",
     "output_type": "stream",
     "text": [
      "we have 45/135 records.\n",
      "we have 3/9 records.\n",
      "we have 45/135 records.\n",
      "we have 45/135 records.\n",
      "we have 3/9 records.\n",
      "we have 45/135 records.\n",
      "we have 45/135 records.\n",
      "we have 3/9 records.\n",
      "we have 45/135 records.\n",
      "we have 45/135 records.\n",
      "we have 3/9 records.\n",
      "we have 36/108 records.\n",
      "we have 36/108 records.\n",
      "we have 36/108 records.\n",
      "we have 36/108 records.\n",
      "we have 36/108 records.\n",
      "we have 36/108 records.\n"
     ]
    },
    {
     "name": "stderr",
     "output_type": "stream",
     "text": [
      "/tmp/ipykernel_369849/1769050826.py:22: FutureWarning: Setting an item of incompatible dtype is deprecated and will raise an error in a future version of pandas. Value '62.2404275946475' has dtype incompatible with int64, please explicitly cast to a compatible dtype first.\n",
      "  result.loc[(adaptation_method,protocol),dataset] = aggregated_results.loc[:,'test-overall-accuracy'].agg('mean')\n",
      "/tmp/ipykernel_369849/1769050826.py:22: FutureWarning: Setting an item of incompatible dtype is deprecated and will raise an error in a future version of pandas. Value '77.36003989257762' has dtype incompatible with int64, please explicitly cast to a compatible dtype first.\n",
      "  result.loc[(adaptation_method,protocol),dataset] = aggregated_results.loc[:,'test-overall-accuracy'].agg('mean')\n"
     ]
    },
    {
     "name": "stdout",
     "output_type": "stream",
     "text": [
      "we have 36/108 records.\n",
      "we have 36/108 records.\n",
      "we have 45/135 records.\n",
      "we have 45/135 records.\n",
      "we have 3/9 records.\n"
     ]
    },
    {
     "name": "stderr",
     "output_type": "stream",
     "text": [
      "/tmp/ipykernel_369849/1769050826.py:22: FutureWarning: Setting an item of incompatible dtype is deprecated and will raise an error in a future version of pandas. Value '76.15622222222221' has dtype incompatible with int64, please explicitly cast to a compatible dtype first.\n",
      "  result.loc[(adaptation_method,protocol),dataset] = aggregated_results.loc[:,'test-overall-accuracy'].agg('mean')\n",
      "/tmp/ipykernel_369849/1769050826.py:22: FutureWarning: Setting an item of incompatible dtype is deprecated and will raise an error in a future version of pandas. Value '47.78244444444444' has dtype incompatible with int64, please explicitly cast to a compatible dtype first.\n",
      "  result.loc[(adaptation_method,protocol),dataset] = aggregated_results.loc[:,'test-overall-accuracy'].agg('mean')\n",
      "/tmp/ipykernel_369849/1769050826.py:22: FutureWarning: Setting an item of incompatible dtype is deprecated and will raise an error in a future version of pandas. Value '81.56028369045997' has dtype incompatible with int64, please explicitly cast to a compatible dtype first.\n",
      "  result.loc[(adaptation_method,protocol),dataset] = aggregated_results.loc[:,'test-overall-accuracy'].agg('mean')\n"
     ]
    },
    {
     "name": "stdout",
     "output_type": "stream",
     "text": [
      "we have 45/135 records.\n",
      "we have 45/135 records.\n",
      "we have 3/9 records.\n",
      "we have 45/135 records.\n",
      "we have 45/135 records.\n",
      "we have 3/9 records.\n",
      "we have 45/135 records.\n",
      "we have 45/135 records.\n",
      "we have 3/9 records.\n",
      "we have 36/108 records.\n"
     ]
    },
    {
     "name": "stderr",
     "output_type": "stream",
     "text": [
      "/tmp/ipykernel_369849/1769050826.py:22: FutureWarning: Setting an item of incompatible dtype is deprecated and will raise an error in a future version of pandas. Value '62.322647075973464' has dtype incompatible with int64, please explicitly cast to a compatible dtype first.\n",
      "  result.loc[(adaptation_method,protocol),dataset] = aggregated_results.loc[:,'test-overall-accuracy'].agg('mean')\n",
      "/tmp/ipykernel_369849/1769050826.py:22: FutureWarning: Setting an item of incompatible dtype is deprecated and will raise an error in a future version of pandas. Value '77.57984607041122' has dtype incompatible with int64, please explicitly cast to a compatible dtype first.\n",
      "  result.loc[(adaptation_method,protocol),dataset] = aggregated_results.loc[:,'test-overall-accuracy'].agg('mean')\n"
     ]
    },
    {
     "name": "stdout",
     "output_type": "stream",
     "text": [
      "we have 36/108 records.\n",
      "we have 36/108 records.\n",
      "we have 36/108 records.\n",
      "we have 36/108 records.\n",
      "we have 36/108 records.\n",
      "we have 36/108 records.\n",
      "we have 36/108 records.\n"
     ]
    }
   ],
   "source": [
    "result_2022 = get_result(2022)\n",
    "result_2023 = get_result(2023)\n",
    "result_2024 = get_result(2024)"
   ]
  },
  {
   "cell_type": "code",
   "execution_count": null,
   "metadata": {},
   "outputs": [],
   "source": []
  }
 ],
 "metadata": {
  "kernelspec": {
   "display_name": "Python 3 (ipykernel)",
   "language": "python",
   "name": "python3"
  },
  "language_info": {
   "codemirror_mode": {
    "name": "ipython",
    "version": 3
   },
   "file_extension": ".py",
   "mimetype": "text/x-python",
   "name": "python",
   "nbconvert_exporter": "python",
   "pygments_lexer": "ipython3",
   "version": "3.10.16"
  },
  "vscode": {
   "interpreter": {
    "hash": "dc7a203c487a4c1b41bd3d170020b3757b8af76b16b2c4bd8127396815ac049f"
   }
  }
 },
 "nbformat": 4,
 "nbformat_minor": 4
}
