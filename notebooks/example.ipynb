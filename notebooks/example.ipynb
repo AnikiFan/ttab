{
 "cells": [
  {
   "cell_type": "code",
   "execution_count": null,
   "metadata": {},
   "outputs": [],
   "source": [
    "# Useful starting lines \n",
    "%matplotlib inline\n",
    "import numpy as np\n",
    "import matplotlib.pyplot as plt\n",
    "from matplotlib.lines import Line2D\n",
    "%load_ext autoreload\n",
    "%autoreload 2"
   ]
  },
  {
   "cell_type": "code",
   "execution_count": null,
   "metadata": {},
   "outputs": [],
   "source": [
    "import os \n",
    "import sys\n",
    "import time\n",
    "import copy\n",
    "from copy import deepcopy\n",
    "import pickle\n",
    "import math\n",
    "import functools \n",
    "from IPython.display import display, HTML\n",
    "import operator\n",
    "from operator import itemgetter\n",
    "\n",
    "import pandas as pd\n",
    "import seaborn as sns\n",
    "from matplotlib.lines import Line2D\n",
    "\n",
    "sns.set(style=\"darkgrid\")\n",
    "sns.set_context(\"paper\")"
   ]
  },
  {
   "cell_type": "code",
   "execution_count": null,
   "metadata": {},
   "outputs": [],
   "source": [
    "root_path = '/home/ttab/sp-ttabed/codes/code'\n",
    "sys.path.append(root_path)"
   ]
  },
  {
   "cell_type": "code",
   "execution_count": null,
   "metadata": {},
   "outputs": [],
   "source": [
    "from monitor.tools.show_results import extract_list_of_records, reorder_records, get_pickle_info, summarize_info\n",
    "from monitor.tools.plot import plot_curve_wrt_time\n",
    "import monitor.tools.plot_utils as plot_utils\n",
    "\n",
    "from monitor.tools.utils import dict_parser\n",
    "from monitor.tools.file_io import load_pickle"
   ]
  },
  {
   "cell_type": "code",
   "execution_count": null,
   "metadata": {},
   "outputs": [],
   "source": [
    "root_data_path = os.path.join(root_path, 'data', 'logs', 'resnet26')\n",
    "experiments = ['cifar10_label_shift_episodic_oracle_model_selection']\n",
    "raw_records = get_pickle_info(root_data_path, experiments)"
   ]
  },
  {
   "cell_type": "code",
   "execution_count": null,
   "metadata": {},
   "outputs": [],
   "source": [
    "# Have a glimpse of experimental results.\n",
    "conditions = {\n",
    "    \"model_adaptation_method\": [\"tent\"],\n",
    "    \"seed\": [2022],\n",
    "    \"batch_size\": [64],\n",
    "    \"episodic\": [False],\n",
    "    \"n_train_steps\": [1],\n",
    "    # \"lr\": [0.005],\n",
    "    # \"data_names\": [\"cifar10_c_deterministic-gaussian_noise-5\"],\n",
    "}\n",
    "attributes = ['model_adaptation_method', 'step_ratio', 'label_shift_param', 'ckpt_path', 'episodic', 'model_selection_method', 'seed', 'data_names', 'status']\n",
    "records = extract_list_of_records(list_of_records=raw_records, conditions=conditions)\n",
    "aggregated_results, averaged_records_overall = summarize_info(records, attributes, reorder_on='model_adaptation_method', groupby_on='test-overall-accuracy', larger_is_better=True)\n",
    "display(HTML(averaged_records_overall.to_html()))\n",
    "\n",
    "# display test accuracy per test step.\n",
    "aggregated_results, averaged_records_step_nonepisodic_optimal = summarize_info(records, attributes, reorder_on='model_adaptation_method', groupby_on='test-step-accuracy', larger_is_better=True)\n",
    "\n",
    "fig = plt.figure(num=1, figsize=(18, 9))\n",
    "ax1 = fig.add_subplot(111)\n",
    "plot_curve_wrt_time(\n",
    "    ax1, records,\n",
    "    x_wrt_sth='test-step-step', y_wrt_sth='test-step-accuracy', is_smooth=True,\n",
    "    xlabel='batch index', ylabel='Test accuracy', l_subset=0.0, r_subset=1, markevery_list=None,\n",
    "    n_by_line=4, has_legend=True, legend='model_selection_method,step_ratio', legend_loc='lower right', legend_ncol=1, bbox_to_anchor=[1, 0],\n",
    "    ylimit_bottom=0, ylimit_top=100, use_log=False)\n",
    "fig.tight_layout()\n",
    "plt.show()"
   ]
  }
 ],
 "metadata": {
  "kernelspec": {
   "display_name": "test_algo",
   "language": "python",
   "name": "python3"
  },
  "language_info": {
   "codemirror_mode": {
    "name": "ipython",
    "version": 3
   },
   "file_extension": ".py",
   "mimetype": "text/x-python",
   "name": "python",
   "nbconvert_exporter": "python",
   "pygments_lexer": "ipython3",
   "version": "3.7.11"
  },
  "orig_nbformat": 4,
  "vscode": {
   "interpreter": {
    "hash": "dc7a203c487a4c1b41bd3d170020b3757b8af76b16b2c4bd8127396815ac049f"
   }
  }
 },
 "nbformat": 4,
 "nbformat_minor": 2
}
