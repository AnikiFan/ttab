{
 "cells": [
  {
   "cell_type": "code",
   "execution_count": 25,
   "metadata": {},
   "outputs": [
    {
     "name": "stdout",
     "output_type": "stream",
     "text": [
      "The autoreload extension is already loaded. To reload it, use:\n",
      "  %reload_ext autoreload\n"
     ]
    }
   ],
   "source": [
    "# Useful starting lines \n",
    "%matplotlib inline\n",
    "import numpy as np\n",
    "import matplotlib.pyplot as plt\n",
    "from matplotlib.lines import Line2D\n",
    "%load_ext autoreload\n",
    "%autoreload 2"
   ]
  },
  {
   "cell_type": "code",
   "execution_count": 26,
   "metadata": {},
   "outputs": [],
   "source": [
    "import os \n",
    "import sys\n",
    "import time\n",
    "import copy\n",
    "from copy import deepcopy\n",
    "import pickle\n",
    "import math\n",
    "import functools \n",
    "from IPython.display import display, HTML\n",
    "import operator\n",
    "from operator import itemgetter\n",
    "\n",
    "import pandas as pd\n",
    "import seaborn as sns\n",
    "from matplotlib.lines import Line2D\n",
    "\n",
    "sns.set(style=\"darkgrid\")\n",
    "sns.set_context(\"paper\")"
   ]
  },
  {
   "cell_type": "code",
   "execution_count": 27,
   "metadata": {},
   "outputs": [],
   "source": [
    "root_path = '/root/autodl-tmp/ttab'\n",
    "sys.path.append(root_path)"
   ]
  },
  {
   "cell_type": "code",
   "execution_count": 28,
   "metadata": {},
   "outputs": [],
   "source": [
    "from monitor.tools.show_results import extract_list_of_records, reorder_records, get_pickle_info, summarize_info\n",
    "from monitor.tools.plot import plot_curve_wrt_time\n",
    "import monitor.tools.plot_utils as plot_utils\n",
    "\n",
    "from monitor.tools.utils import dict_parser\n",
    "from monitor.tools.file_io import load_pickle"
   ]
  },
  {
   "cell_type": "code",
   "execution_count": 29,
   "metadata": {},
   "outputs": [],
   "source": [
    "root_data_path = os.path.join(root_path,  'logs', 'resnet26')\n",
    "experiments = ['cifar10_1_episodic_oracle_model_selection']\n",
    "raw_records = get_pickle_info(root_data_path, experiments)"
   ]
  },
  {
   "cell_type": "code",
   "execution_count": 30,
   "metadata": {},
   "outputs": [
    {
     "name": "stdout",
     "output_type": "stream",
     "text": [
      "we have 9/9 records.\n"
     ]
    },
    {
     "name": "stderr",
     "output_type": "stream",
     "text": [
      "/root/autodl-tmp/ttab/monitor/tools/show_results.py:249: FutureWarning: Downcasting object dtype arrays on .fillna, .ffill, .bfill is deprecated and will change in a future version. Call result.infer_objects(copy=False) instead. To opt-in to the future behavior, set `pd.set_option('future.no_silent_downcasting', True)`\n",
      "  aggregated_records.fillna(-1)\n"
     ]
    }
   ],
   "source": [
    "# Have a glimpse of experimental results.\n",
    "conditions = {\n",
    "    # \"model_adaptation_method\": [\"tent\"],\n",
    "    # \"seed\": [2022],\n",
    "    # \"batch_size\": [64],\n",
    "    # \"episodic\": [False],\n",
    "    # \"n_train_steps\": [50],\n",
    "    # \"lr\": [0.005],\n",
    "    # \"data_names\": [\"cifar10_c_deterministic-gaussian_noise-5\"],\n",
    "}\n",
    "attributes = ['model_adaptation_method', 'step_ratio', 'label_shift_param', 'ckpt_path', 'episodic', 'model_selection_method', 'seed', 'data_names', 'status']\n",
    "records = extract_list_of_records(list_of_records=raw_records, conditions=conditions)\n",
    "aggregated_results, averaged_records_overall = summarize_info(records, attributes, reorder_on='model_adaptation_method', groupby_on='test-overall-accuracy', larger_is_better=True)\n",
    "# display(HTML(averaged_records_overall.to_html()))\n",
    "\n",
    "# # display test accuracy per test step.\n",
    "# aggregated_results, averaged_records_step_nonepisodic_optimal = summarize_info(records, attributes, reorder_on='model_adaptation_method', groupby_on='test-step-accuracy', larger_is_better=True)\n",
    "\n",
    "# fig = plt.figure(num=1, figsize=(18, 9))\n",
    "# ax1 = fig.add_subplot(111)\n",
    "# plot_curve_wrt_time(\n",
    "#     ax1, records,\n",
    "#     x_wrt_sth='test-step-step', y_wrt_sth='test-step-accuracy', is_smooth=True,\n",
    "#     xlabel='batch index', ylabel='Test accuracy', l_subset=0.0, r_subset=1, markevery_list=None,\n",
    "#     n_by_line=4, has_legend=True, legend='model_selection_method,step_ratio', legend_loc='lower right', legend_ncol=1, bbox_to_anchor=[1, 0],\n",
    "#     ylimit_bottom=0, ylimit_top=100, use_log=False)\n",
    "# fig.tight_layout()\n",
    "# plt.show()"
   ]
  },
  {
   "cell_type": "code",
   "execution_count": 21,
   "metadata": {},
   "outputs": [
    {
     "data": {
      "text/plain": [
       "{0.001}"
      ]
     },
     "execution_count": 21,
     "metadata": {},
     "output_type": "execute_result"
    }
   ],
   "source": [
    "set([test_arg['lr'] for (test_arg,test_info) in records])"
   ]
  },
  {
   "cell_type": "code",
   "execution_count": 33,
   "metadata": {},
   "outputs": [
    {
     "data": {
      "text/plain": [
       "9"
      ]
     },
     "execution_count": 33,
     "metadata": {},
     "output_type": "execute_result"
    }
   ],
   "source": [
    "len(records)"
   ]
  },
  {
   "cell_type": "code",
   "execution_count": 24,
   "metadata": {},
   "outputs": [
    {
     "data": {
      "text/plain": [
       "mean    81.345868\n",
       "std      0.439792\n",
       "Name: (test-overall-accuracy, mean), dtype: float64"
      ]
     },
     "execution_count": 24,
     "metadata": {},
     "output_type": "execute_result"
    }
   ],
   "source": [
    "averaged_records_overall.loc[:,('test-overall-accuracy','mean')].agg(['mean','std'])"
   ]
  },
  {
   "cell_type": "code",
   "execution_count": 32,
   "metadata": {},
   "outputs": [
    {
     "data": {
      "text/html": [
       "<div>\n",
       "<style scoped>\n",
       "    .dataframe tbody tr th:only-of-type {\n",
       "        vertical-align: middle;\n",
       "    }\n",
       "\n",
       "    .dataframe tbody tr th {\n",
       "        vertical-align: top;\n",
       "    }\n",
       "\n",
       "    .dataframe thead tr th {\n",
       "        text-align: left;\n",
       "    }\n",
       "</style>\n",
       "<table border=\"1\" class=\"dataframe\">\n",
       "  <thead>\n",
       "    <tr>\n",
       "      <th></th>\n",
       "      <th>model_adaptation_method</th>\n",
       "      <th>step_ratio</th>\n",
       "      <th>label_shift_param</th>\n",
       "      <th>ckpt_path</th>\n",
       "      <th>episodic</th>\n",
       "      <th>model_selection_method</th>\n",
       "      <th>seed</th>\n",
       "      <th>data_names</th>\n",
       "      <th>status</th>\n",
       "      <th colspan=\"5\" halign=\"left\">test-overall-accuracy</th>\n",
       "    </tr>\n",
       "    <tr>\n",
       "      <th></th>\n",
       "      <th></th>\n",
       "      <th></th>\n",
       "      <th></th>\n",
       "      <th></th>\n",
       "      <th></th>\n",
       "      <th></th>\n",
       "      <th></th>\n",
       "      <th></th>\n",
       "      <th></th>\n",
       "      <th>mean</th>\n",
       "      <th>std</th>\n",
       "      <th>max</th>\n",
       "      <th>min</th>\n",
       "      <th>count</th>\n",
       "    </tr>\n",
       "  </thead>\n",
       "  <tbody>\n",
       "    <tr>\n",
       "      <th>0</th>\n",
       "      <td>tent</td>\n",
       "      <td>-1</td>\n",
       "      <td>-1</td>\n",
       "      <td>./pretrained_ckpts/classification/resnet26_wit...</td>\n",
       "      <td>True</td>\n",
       "      <td>oracle_model_selection</td>\n",
       "      <td>2022</td>\n",
       "      <td>cifar10_1</td>\n",
       "      <td>finished</td>\n",
       "      <td>81.692232</td>\n",
       "      <td>0.0</td>\n",
       "      <td>81.692232</td>\n",
       "      <td>81.692232</td>\n",
       "      <td>3</td>\n",
       "    </tr>\n",
       "    <tr>\n",
       "      <th>2</th>\n",
       "      <td>tent</td>\n",
       "      <td>-1</td>\n",
       "      <td>-1</td>\n",
       "      <td>./pretrained_ckpts/classification/resnet26_wit...</td>\n",
       "      <td>True</td>\n",
       "      <td>oracle_model_selection</td>\n",
       "      <td>2024</td>\n",
       "      <td>cifar10_1</td>\n",
       "      <td>finished</td>\n",
       "      <td>81.494310</td>\n",
       "      <td>0.0</td>\n",
       "      <td>81.494310</td>\n",
       "      <td>81.494310</td>\n",
       "      <td>3</td>\n",
       "    </tr>\n",
       "    <tr>\n",
       "      <th>1</th>\n",
       "      <td>tent</td>\n",
       "      <td>-1</td>\n",
       "      <td>-1</td>\n",
       "      <td>./pretrained_ckpts/classification/resnet26_wit...</td>\n",
       "      <td>True</td>\n",
       "      <td>oracle_model_selection</td>\n",
       "      <td>2023</td>\n",
       "      <td>cifar10_1</td>\n",
       "      <td>finished</td>\n",
       "      <td>80.851064</td>\n",
       "      <td>0.0</td>\n",
       "      <td>80.851064</td>\n",
       "      <td>80.851064</td>\n",
       "      <td>3</td>\n",
       "    </tr>\n",
       "  </tbody>\n",
       "</table>\n",
       "</div>"
      ],
      "text/plain": [
       "  model_adaptation_method step_ratio label_shift_param  \\\n",
       "                                                         \n",
       "0                    tent         -1                -1   \n",
       "2                    tent         -1                -1   \n",
       "1                    tent         -1                -1   \n",
       "\n",
       "                                           ckpt_path episodic  \\\n",
       "                                                                \n",
       "0  ./pretrained_ckpts/classification/resnet26_wit...     True   \n",
       "2  ./pretrained_ckpts/classification/resnet26_wit...     True   \n",
       "1  ./pretrained_ckpts/classification/resnet26_wit...     True   \n",
       "\n",
       "   model_selection_method  seed data_names    status test-overall-accuracy  \\\n",
       "                                                                      mean   \n",
       "0  oracle_model_selection  2022  cifar10_1  finished             81.692232   \n",
       "2  oracle_model_selection  2024  cifar10_1  finished             81.494310   \n",
       "1  oracle_model_selection  2023  cifar10_1  finished             80.851064   \n",
       "\n",
       "                                    \n",
       "   std        max        min count  \n",
       "0  0.0  81.692232  81.692232     3  \n",
       "2  0.0  81.494310  81.494310     3  \n",
       "1  0.0  80.851064  80.851064     3  "
      ]
     },
     "execution_count": 32,
     "metadata": {},
     "output_type": "execute_result"
    }
   ],
   "source": [
    "averaged_records_overall"
   ]
  },
  {
   "cell_type": "code",
   "execution_count": null,
   "metadata": {},
   "outputs": [],
   "source": []
  }
 ],
 "metadata": {
  "kernelspec": {
   "display_name": "Python 3 (ipykernel)",
   "language": "python",
   "name": "python3"
  },
  "language_info": {
   "codemirror_mode": {
    "name": "ipython",
    "version": 3
   },
   "file_extension": ".py",
   "mimetype": "text/x-python",
   "name": "python",
   "nbconvert_exporter": "python",
   "pygments_lexer": "ipython3",
   "version": "3.10.16"
  },
  "vscode": {
   "interpreter": {
    "hash": "dc7a203c487a4c1b41bd3d170020b3757b8af76b16b2c4bd8127396815ac049f"
   }
  }
 },
 "nbformat": 4,
 "nbformat_minor": 4
}
